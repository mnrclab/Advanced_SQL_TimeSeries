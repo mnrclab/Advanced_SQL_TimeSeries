{
 "cells": [
  {
   "cell_type": "code",
   "execution_count": 27,
   "id": "d8e5e573-8277-4e18-8113-3a14f132b08a",
   "metadata": {},
   "outputs": [
    {
     "data": {
      "text/html": [
       "<div>\n",
       "<style scoped>\n",
       "    .dataframe tbody tr th:only-of-type {\n",
       "        vertical-align: middle;\n",
       "    }\n",
       "\n",
       "    .dataframe tbody tr th {\n",
       "        vertical-align: top;\n",
       "    }\n",
       "\n",
       "    .dataframe thead th {\n",
       "        text-align: right;\n",
       "    }\n",
       "</style>\n",
       "<table border=\"1\" class=\"dataframe\">\n",
       "  <thead>\n",
       "    <tr style=\"text-align: right;\">\n",
       "      <th></th>\n",
       "      <th>slope</th>\n",
       "      <th>intercept</th>\n",
       "    </tr>\n",
       "  </thead>\n",
       "  <tbody>\n",
       "    <tr>\n",
       "      <th>0</th>\n",
       "      <td>-262.588543</td>\n",
       "      <td>68.565371</td>\n",
       "    </tr>\n",
       "  </tbody>\n",
       "</table>\n",
       "</div>"
      ],
      "text/plain": [
       "        slope  intercept\n",
       "0 -262.588543  68.565371"
      ]
     },
     "execution_count": 27,
     "metadata": {},
     "output_type": "execute_result"
    }
   ],
   "source": [
    "# intecept & slope\n",
    "sql(\n",
    "    '''\n",
    "    SELECT slope, \n",
    "            y_bar_max - x_bar_max * slope as intercept\n",
    "    FROM\n",
    "        (SELECT SUM((discount - x_bar) * (profit - y_bar)) / SUM((discount - x_bar) * (discount- x_bar)) as slope,\n",
    "                MAX(x_bar) as x_bar_max,\n",
    "                MAX(y_bar) as y_bar_max\n",
    "        FROM \n",
    "            (SELECT discount, AVG(discount) OVER() as x_bar,\n",
    "                    profit, AVG(profit) OVER() as y_bar\n",
    "            FROM superstore\n",
    "            ) data1\n",
    "        ) data2;\n",
    "    '''\n",
    ")"
   ]
  }
 ],
 "metadata": {
  "kernelspec": {
   "display_name": "Python 3",
   "language": "python",
   "name": "python3"
  },
  "language_info": {
   "codemirror_mode": {
    "name": "ipython",
    "version": 3
   },
   "file_extension": ".py",
   "mimetype": "text/x-python",
   "name": "python",
   "nbconvert_exporter": "python",
   "pygments_lexer": "ipython3",
   "version": "3.8.7"
  }
 },
 "nbformat": 4,
 "nbformat_minor": 5
}
